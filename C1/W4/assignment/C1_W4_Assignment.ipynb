{
  "nbformat": 4,
  "nbformat_minor": 0,
  "metadata": {
    "accelerator": "GPU",
    "colab": {
      "name": "C1_W4_Assignment.ipynb",
      "provenance": [],
      "collapsed_sections": [],
      "toc_visible": true,
      "include_colab_link": true
    },
    "kernelspec": {
      "name": "python3",
      "display_name": "Python 3"
    },
    "language_info": {
      "name": "python"
    }
  },
  "cells": [
    {
      "cell_type": "markdown",
      "metadata": {
        "id": "view-in-github",
        "colab_type": "text"
      },
      "source": [
        "<a href=\"https://colab.research.google.com/github/KiranDLExperience/TensorFlowForAIMLDL-/blob/master/C1/W4/assignment/C1_W4_Assignment.ipynb\" target=\"_parent\"><img src=\"https://colab.research.google.com/assets/colab-badge.svg\" alt=\"Open In Colab\"/></a>"
      ]
    },
    {
      "cell_type": "code",
      "metadata": {
        "id": "zX4Kg8DUTKWO"
      },
      "source": [
        "#@title Licensed under the Apache License, Version 2.0 (the \"License\");\n",
        "# you may not use this file except in compliance with the License.\n",
        "# You may obtain a copy of the License at\n",
        "#\n",
        "# https://www.apache.org/licenses/LICENSE-2.0\n",
        "#\n",
        "# Unless required by applicable law or agreed to in writing, software\n",
        "# distributed under the License is distributed on an \"AS IS\" BASIS,\n",
        "# WITHOUT WARRANTIES OR CONDITIONS OF ANY KIND, either express or implied.\n",
        "# See the License for the specific language governing permissions and\n",
        "# limitations under the License."
      ],
      "execution_count": null,
      "outputs": []
    },
    {
      "cell_type": "markdown",
      "metadata": {
        "id": "5FZ6L2rlHbG5"
      },
      "source": [
        "**Things to Note:**\n",
        "1. When coding the `class myCallback`, Python 3 will run into an error\n",
        "```python\n",
        "TypeError: '>' not supported between instances of 'NoneType' and 'float'\n",
        "```\n",
        "when using the code\n",
        "```python\n",
        "if(logs.get('accuracy')>0.99):\n",
        "```\n",
        "\n",
        "For Python 3, use the following equivalent code line\n",
        "\n",
        "```python\n",
        "if logs.get('accuracy') is not None and logs.get('accuracy') > 0.99:\n",
        "```\n",
        "\n",
        "2. You can run the notebook using TensorFlow 2.5.0"
      ]
    },
    {
      "cell_type": "code",
      "metadata": {
        "id": "4UdrR8PdHbG5"
      },
      "source": [
        "#!pip install tensorflow==2.5.0"
      ],
      "execution_count": 1,
      "outputs": []
    },
    {
      "cell_type": "code",
      "metadata": {
        "id": "D8Q4rstTHbG6"
      },
      "source": [
        "# this is used in downloading data from the google drive\n",
        "#!pip install gdown"
      ],
      "execution_count": 2,
      "outputs": []
    },
    {
      "cell_type": "markdown",
      "metadata": {
        "id": "q_9-x1fbHbG6"
      },
      "source": [
        "Below is code with a link to a happy or sad dataset which contains 80 images, 40 happy and 40 sad. \n",
        "Create a convolutional neural network that trains to 100% accuracy on these images,  which cancels training upon hitting training accuracy of >.999\n",
        "\n",
        "Hint -- it will work best with 3 convolutional layers."
      ]
    },
    {
      "cell_type": "code",
      "metadata": {
        "id": "3NFuMFYXtwsT",
        "outputId": "cc808bc0-b53b-4fe7-a646-3861b3c4113f",
        "colab": {
          "base_uri": "https://localhost:8080/"
        }
      },
      "source": [
        "import tensorflow as tf\n",
        "import os\n",
        "import zipfile\n",
        "\n",
        "!gdown --id 1NvV6VhmrfU8JDZNoEbwJxwx_6dhyN5bf \n",
        "\n",
        "zip_ref = zipfile.ZipFile(\"./happy-or-sad.zip\", 'r')\n",
        "zip_ref.extractall(\"./h-or-s\")\n",
        "zip_ref.close()"
      ],
      "execution_count": 3,
      "outputs": [
        {
          "output_type": "stream",
          "name": "stdout",
          "text": [
            "Downloading...\n",
            "From: https://drive.google.com/uc?id=1NvV6VhmrfU8JDZNoEbwJxwx_6dhyN5bf\n",
            "To: /content/happy-or-sad.zip\n",
            "\r  0% 0.00/2.67M [00:00<?, ?B/s]\r100% 2.67M/2.67M [00:00<00:00, 86.3MB/s]\n"
          ]
        }
      ]
    },
    {
      "cell_type": "code",
      "metadata": {
        "id": "eUcNTpra1FK0"
      },
      "source": [
        "# GRADED FUNCTION: train_happy_sad_model\n",
        "def train_happy_sad_model():\n",
        "    # Please write your code only where you are indicated.\n",
        "    # please do not remove # model fitting inline comments.\n",
        "\n",
        "    DESIRED_ACCURACY = 0.999\n",
        "\n",
        "    class myCallback(tf.keras.callbacks.Callback):\n",
        "      def on_epoch_end(self,epoch,logs={}):\n",
        "        print(logs)\n",
        "        if(logs.get('accuracy')>DESIRED_ACCURACY):\n",
        "          print(\"\\n Reached 99.9% accuracy \")\n",
        "          self.model.stop_training=True\n",
        "            # your code):\n",
        "         # Your Code\n",
        "        \n",
        "        # YOUR CODE START HERE\n",
        "        \n",
        "        # YOUR CODE END HERE\n",
        "        \n",
        "    callbacks = myCallback()\n",
        "    \n",
        "    # This Code Block should Define and Compile the Model. Please assume the images are 150 X 150 in your implementation.\n",
        "    model = tf.keras.models.Sequential([tf.keras.layers.Conv2D(32,(3,3),activation='relu', input_shape=(150,150,3)),\n",
        "            tf.keras.layers.MaxPooling2D((2,2)),\n",
        "            tf.keras.layers.Conv2D(64,(3,3),activation='relu'),\n",
        "            tf.keras.layers.MaxPooling2D((2,2)),\n",
        "            tf.keras.layers.Conv2D(128,(3,3),activation='relu'),\n",
        "            tf.keras.layers.MaxPooling2D((2,2)),\n",
        "            tf.keras.layers.Flatten(),\n",
        "            tf.keras.layers.Dense(128,activation='relu'),\n",
        "            tf.keras.layers.Dense(1,activation='sigmoid')\n",
        "    ])\n",
        "\n",
        "    from tensorflow.keras.optimizers import RMSprop\n",
        "\n",
        "    model.compile(loss='binary_crossentropy',\n",
        "                  optimizer=RMSprop(learning_rate=0.001),\n",
        "                  metrics=['accuracy']\n",
        "                 )\n",
        "    \n",
        "    # This code block should create an instance of an ImageDataGenerator called train_datagen \n",
        "    # And a train_generator by calling train_datagen.flow_from_directory\n",
        "\n",
        "    from tensorflow.keras.preprocessing.image import ImageDataGenerator\n",
        "\n",
        "    train_datagen = ImageDataGenerator(rescale=1/255)# YOUR CODE HERE\n",
        "\n",
        "    # Please use a target_size of 150 X 150.\n",
        "    train_generator = train_datagen.flow_from_directory('./h-or-s',  # This is the source directory for training images\n",
        "        target_size=(150, 150),  # All images will be resized to 150x150\n",
        "        batch_size=4,\n",
        "        # Since we use binary_crossentropy loss, we need binary labels\n",
        "        class_mode='binary')\n",
        "        # Your Code Here\n",
        "                                                     \n",
        "    # Expected output: 'Found 80 images belonging to 2 classes'\n",
        "\n",
        "    # This code block should call model.fit_generator and train for\n",
        "    # a number of epochs.\n",
        "    # model fitting\n",
        "    history = model.fit(train_generator,\n",
        "                        steps_per_epoch=4,\n",
        "                        epochs=20,\n",
        "                        verbose=1,\n",
        "                        callbacks=[callbacks]\n",
        "                       )\n",
        "    \n",
        "    return history.history['accuracy'][-1]"
      ],
      "execution_count": 15,
      "outputs": []
    },
    {
      "cell_type": "code",
      "metadata": {
        "id": "sSaPPUe_z_OU",
        "outputId": "7b049f31-1049-47ac-9049-a158fb0f14e6",
        "colab": {
          "base_uri": "https://localhost:8080/"
        }
      },
      "source": [
        "train_happy_sad_model()"
      ],
      "execution_count": 16,
      "outputs": [
        {
          "output_type": "stream",
          "name": "stdout",
          "text": [
            "Found 80 images belonging to 2 classes.\n",
            "Epoch 1/20\n",
            "4/4 [==============================] - ETA: 0s - loss: 7.2251 - accuracy: 0.3125{'loss': 7.225063800811768, 'accuracy': 0.3125}\n",
            "4/4 [==============================] - 2s 22ms/step - loss: 7.2251 - accuracy: 0.3125\n",
            "Epoch 2/20\n",
            "4/4 [==============================] - ETA: 0s - loss: 0.8046 - accuracy: 0.3750    {'loss': 0.8046324849128723, 'accuracy': 0.375}\n",
            "4/4 [==============================] - 0s 19ms/step - loss: 0.8046 - accuracy: 0.3750\n",
            "Epoch 3/20\n",
            "4/4 [==============================] - ETA: 0s - loss: 0.7087 - accuracy: 0.5000    {'loss': 0.7087332606315613, 'accuracy': 0.5}\n",
            "4/4 [==============================] - 0s 22ms/step - loss: 0.7087 - accuracy: 0.5000\n",
            "Epoch 4/20\n",
            "4/4 [==============================] - ETA: 0s - loss: 0.6722 - accuracy: 0.6875{'loss': 0.6722338199615479, 'accuracy': 0.6875}\n",
            "4/4 [==============================] - 0s 20ms/step - loss: 0.6722 - accuracy: 0.6875\n",
            "Epoch 5/20\n",
            "4/4 [==============================] - ETA: 0s - loss: 0.6677 - accuracy: 0.6250{'loss': 0.6676954030990601, 'accuracy': 0.625}\n",
            "4/4 [==============================] - 0s 19ms/step - loss: 0.6677 - accuracy: 0.6250\n",
            "Epoch 6/20\n",
            "4/4 [==============================] - ETA: 0s - loss: 0.6453 - accuracy: 0.6875{'loss': 0.6453115940093994, 'accuracy': 0.6875}\n",
            "4/4 [==============================] - 0s 18ms/step - loss: 0.6453 - accuracy: 0.6875\n",
            "Epoch 7/20\n",
            "4/4 [==============================] - ETA: 0s - loss: 0.8053 - accuracy: 0.3750{'loss': 0.8053355813026428, 'accuracy': 0.375}\n",
            "4/4 [==============================] - 0s 20ms/step - loss: 0.8053 - accuracy: 0.3750\n",
            "Epoch 8/20\n",
            "4/4 [==============================] - ETA: 0s - loss: 0.5475 - accuracy: 0.6250{'loss': 0.5474821925163269, 'accuracy': 0.625}\n",
            "4/4 [==============================] - 0s 20ms/step - loss: 0.5475 - accuracy: 0.6250\n",
            "Epoch 9/20\n",
            "1/4 [======>.......................] - ETA: 0s - loss: 0.4581 - accuracy: 1.0000{'loss': 0.43098199367523193, 'accuracy': 0.8125}\n",
            "4/4 [==============================] - 0s 17ms/step - loss: 0.4310 - accuracy: 0.8125\n",
            "Epoch 10/20\n",
            "4/4 [==============================] - ETA: 0s - loss: 0.4715 - accuracy: 0.8750{'loss': 0.47152090072631836, 'accuracy': 0.875}\n",
            "4/4 [==============================] - 0s 20ms/step - loss: 0.4715 - accuracy: 0.8750\n",
            "Epoch 11/20\n",
            "4/4 [==============================] - ETA: 0s - loss: 0.2439 - accuracy: 0.8750{'loss': 0.24393899738788605, 'accuracy': 0.875}\n",
            "4/4 [==============================] - 0s 18ms/step - loss: 0.2439 - accuracy: 0.8750\n",
            "Epoch 12/20\n",
            "4/4 [==============================] - ETA: 0s - loss: 0.1923 - accuracy: 0.8125{'loss': 0.1922948658466339, 'accuracy': 0.8125}\n",
            "4/4 [==============================] - 0s 19ms/step - loss: 0.1923 - accuracy: 0.8125\n",
            "Epoch 13/20\n",
            "4/4 [==============================] - ETA: 0s - loss: 0.4122 - accuracy: 0.9375{'loss': 0.41223031282424927, 'accuracy': 0.9375}\n",
            "4/4 [==============================] - 0s 19ms/step - loss: 0.4122 - accuracy: 0.9375\n",
            "Epoch 14/20\n",
            "4/4 [==============================] - ETA: 0s - loss: 0.2387 - accuracy: 0.9375{'loss': 0.23872467875480652, 'accuracy': 0.9375}\n",
            "4/4 [==============================] - 0s 21ms/step - loss: 0.2387 - accuracy: 0.9375\n",
            "Epoch 15/20\n",
            "4/4 [==============================] - ETA: 0s - loss: 0.3356 - accuracy: 0.8750{'loss': 0.3356170058250427, 'accuracy': 0.875}\n",
            "4/4 [==============================] - 0s 19ms/step - loss: 0.3356 - accuracy: 0.8750\n",
            "Epoch 16/20\n",
            "4/4 [==============================] - ETA: 0s - loss: 0.2660 - accuracy: 0.8125{'loss': 0.26602134108543396, 'accuracy': 0.8125}\n",
            "4/4 [==============================] - 0s 17ms/step - loss: 0.2660 - accuracy: 0.8125\n",
            "Epoch 17/20\n",
            "4/4 [==============================] - ETA: 0s - loss: 0.1021 - accuracy: 1.0000{'loss': 0.10211818665266037, 'accuracy': 1.0}\n",
            "\n",
            " Reached 99.9% accuracy \n",
            "4/4 [==============================] - 0s 20ms/step - loss: 0.1021 - accuracy: 1.0000\n"
          ]
        },
        {
          "output_type": "execute_result",
          "data": {
            "text/plain": [
              "1.0"
            ]
          },
          "metadata": {},
          "execution_count": 16
        }
      ]
    },
    {
      "cell_type": "code",
      "metadata": {
        "id": "0imravDn0Ajz"
      },
      "source": [
        ""
      ],
      "execution_count": null,
      "outputs": []
    }
  ]
}